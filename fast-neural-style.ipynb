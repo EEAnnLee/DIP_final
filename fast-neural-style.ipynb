{
 "cells": [
  {
   "cell_type": "code",
   "execution_count": 1,
   "metadata": {
    "collapsed": false
   },
   "outputs": [
    {
     "data": {
      "text/plain": [
       "<subprocess.Popen at 0x212b36e2d30>"
      ]
     },
     "execution_count": 1,
     "metadata": {},
     "output_type": "execute_result"
    }
   ],
   "source": [
    "import subprocess\n",
    "import os\n",
    "appPath=\"C:\\Program Files\\\\7-Zip\"\n",
    "zApp=\"7z.exe\"\n",
    "zAction='a'\n",
    "zPass='1111'\n",
    "zAnswer='-y'\n",
    "zDir=os.path.join(os.getcwd(),'ttt.zip')\n",
    "progDir=os.path.join(appPath,zApp)\n",
    "zipFileName = os.path.join(os.getcwd(),'deep0.pt')\n",
    "\n",
    "cmd = [zApp, zAction, zipFileName, zPass, zAnswer, zDir]\n",
    "subprocess.Popen(cmd, executable=progDir, stderr=subprocess.STDOUT, stdout=subprocess.PIPE)"
   ]
  },
  {
   "cell_type": "code",
   "execution_count": null,
   "metadata": {
    "collapsed": false
   },
   "outputs": [],
   "source": [
    "os.getcwd()"
   ]
  },
  {
   "cell_type": "code",
   "execution_count": null,
   "metadata": {
    "collapsed": true
   },
   "outputs": [],
   "source": []
  }
 ],
 "metadata": {
  "kernelspec": {
   "display_name": "Python 3",
   "language": "python",
   "name": "python3"
  },
  "language_info": {
   "codemirror_mode": {
    "name": "ipython",
    "version": 3
   },
   "file_extension": ".py",
   "mimetype": "text/x-python",
   "name": "python",
   "nbconvert_exporter": "python",
   "pygments_lexer": "ipython3",
   "version": "3.6.0"
  }
 },
 "nbformat": 4,
 "nbformat_minor": 2
}
