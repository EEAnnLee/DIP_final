{
 "cells": [
  {
   "cell_type": "code",
   "execution_count": 1,
   "metadata": {
    "collapsed": false
   },
   "outputs": [
    {
     "data": {
      "text/plain": [
       "DenseNet(\n",
       "  (features): Sequential(\n",
       "    (conv0): Conv2d (3, 64, kernel_size=(7, 7), stride=(2, 2), padding=(3, 3), bias=False)\n",
       "    (norm0): InstanceNorm2d(64, eps=1e-05, momentum=0.1, affine=True)\n",
       "    (relu0): ReLU(inplace)\n",
       "    (pool0): MaxPool2d(kernel_size=(3, 3), stride=(2, 2), padding=(1, 1), dilation=(1, 1))\n",
       "    (denseblock1): _DenseBlock(\n",
       "      (denselayer1): _DenseLayer(\n",
       "        (norm.1): InstanceNorm2d(64, eps=1e-05, momentum=0.1, affine=True)\n",
       "        (relu.1): ReLU(inplace)\n",
       "        (conv.1): Conv2d (64, 128, kernel_size=(1, 1), stride=(1, 1), bias=False)\n",
       "        (norm.2): InstanceNorm2d(128, eps=1e-05, momentum=0.1, affine=True)\n",
       "        (relu.2): ReLU(inplace)\n",
       "        (conv.2): Conv2d (128, 32, kernel_size=(3, 3), stride=(1, 1), padding=(1, 1), bias=False)\n",
       "      )\n",
       "      (denselayer2): _DenseLayer(\n",
       "        (norm.1): InstanceNorm2d(96, eps=1e-05, momentum=0.1, affine=True)\n",
       "        (relu.1): ReLU(inplace)\n",
       "        (conv.1): Conv2d (96, 128, kernel_size=(1, 1), stride=(1, 1), bias=False)\n",
       "        (norm.2): InstanceNorm2d(128, eps=1e-05, momentum=0.1, affine=True)\n",
       "        (relu.2): ReLU(inplace)\n",
       "        (conv.2): Conv2d (128, 32, kernel_size=(3, 3), stride=(1, 1), padding=(1, 1), bias=False)\n",
       "      )\n",
       "      (denselayer3): _DenseLayer(\n",
       "        (norm.1): InstanceNorm2d(128, eps=1e-05, momentum=0.1, affine=True)\n",
       "        (relu.1): ReLU(inplace)\n",
       "        (conv.1): Conv2d (128, 128, kernel_size=(1, 1), stride=(1, 1), bias=False)\n",
       "        (norm.2): InstanceNorm2d(128, eps=1e-05, momentum=0.1, affine=True)\n",
       "        (relu.2): ReLU(inplace)\n",
       "        (conv.2): Conv2d (128, 32, kernel_size=(3, 3), stride=(1, 1), padding=(1, 1), bias=False)\n",
       "      )\n",
       "      (denselayer4): _DenseLayer(\n",
       "        (norm.1): InstanceNorm2d(160, eps=1e-05, momentum=0.1, affine=True)\n",
       "        (relu.1): ReLU(inplace)\n",
       "        (conv.1): Conv2d (160, 128, kernel_size=(1, 1), stride=(1, 1), bias=False)\n",
       "        (norm.2): InstanceNorm2d(128, eps=1e-05, momentum=0.1, affine=True)\n",
       "        (relu.2): ReLU(inplace)\n",
       "        (conv.2): Conv2d (128, 32, kernel_size=(3, 3), stride=(1, 1), padding=(1, 1), bias=False)\n",
       "      )\n",
       "      (denselayer5): _DenseLayer(\n",
       "        (norm.1): InstanceNorm2d(192, eps=1e-05, momentum=0.1, affine=True)\n",
       "        (relu.1): ReLU(inplace)\n",
       "        (conv.1): Conv2d (192, 128, kernel_size=(1, 1), stride=(1, 1), bias=False)\n",
       "        (norm.2): InstanceNorm2d(128, eps=1e-05, momentum=0.1, affine=True)\n",
       "        (relu.2): ReLU(inplace)\n",
       "        (conv.2): Conv2d (128, 32, kernel_size=(3, 3), stride=(1, 1), padding=(1, 1), bias=False)\n",
       "      )\n",
       "      (denselayer6): _DenseLayer(\n",
       "        (norm.1): InstanceNorm2d(224, eps=1e-05, momentum=0.1, affine=True)\n",
       "        (relu.1): ReLU(inplace)\n",
       "        (conv.1): Conv2d (224, 128, kernel_size=(1, 1), stride=(1, 1), bias=False)\n",
       "        (norm.2): InstanceNorm2d(128, eps=1e-05, momentum=0.1, affine=True)\n",
       "        (relu.2): ReLU(inplace)\n",
       "        (conv.2): Conv2d (128, 32, kernel_size=(3, 3), stride=(1, 1), padding=(1, 1), bias=False)\n",
       "      )\n",
       "    )\n",
       "    (transition1): _Transition(\n",
       "      (norm): InstanceNorm2d(256, eps=1e-05, momentum=0.1, affine=True)\n",
       "      (relu): ReLU(inplace)\n",
       "      (conv): Conv2d (256, 128, kernel_size=(3, 3), stride=(2, 2), bias=False)\n",
       "    )\n",
       "    (denseblock2): _DenseBlock(\n",
       "      (denselayer1): _DenseLayer(\n",
       "        (norm.1): InstanceNorm2d(128, eps=1e-05, momentum=0.1, affine=True)\n",
       "        (relu.1): ReLU(inplace)\n",
       "        (conv.1): Conv2d (128, 128, kernel_size=(1, 1), stride=(1, 1), bias=False)\n",
       "        (norm.2): InstanceNorm2d(128, eps=1e-05, momentum=0.1, affine=True)\n",
       "        (relu.2): ReLU(inplace)\n",
       "        (conv.2): Conv2d (128, 32, kernel_size=(3, 3), stride=(1, 1), padding=(1, 1), bias=False)\n",
       "      )\n",
       "      (denselayer2): _DenseLayer(\n",
       "        (norm.1): InstanceNorm2d(160, eps=1e-05, momentum=0.1, affine=True)\n",
       "        (relu.1): ReLU(inplace)\n",
       "        (conv.1): Conv2d (160, 128, kernel_size=(1, 1), stride=(1, 1), bias=False)\n",
       "        (norm.2): InstanceNorm2d(128, eps=1e-05, momentum=0.1, affine=True)\n",
       "        (relu.2): ReLU(inplace)\n",
       "        (conv.2): Conv2d (128, 32, kernel_size=(3, 3), stride=(1, 1), padding=(1, 1), bias=False)\n",
       "      )\n",
       "      (denselayer3): _DenseLayer(\n",
       "        (norm.1): InstanceNorm2d(192, eps=1e-05, momentum=0.1, affine=True)\n",
       "        (relu.1): ReLU(inplace)\n",
       "        (conv.1): Conv2d (192, 128, kernel_size=(1, 1), stride=(1, 1), bias=False)\n",
       "        (norm.2): InstanceNorm2d(128, eps=1e-05, momentum=0.1, affine=True)\n",
       "        (relu.2): ReLU(inplace)\n",
       "        (conv.2): Conv2d (128, 32, kernel_size=(3, 3), stride=(1, 1), padding=(1, 1), bias=False)\n",
       "      )\n",
       "      (denselayer4): _DenseLayer(\n",
       "        (norm.1): InstanceNorm2d(224, eps=1e-05, momentum=0.1, affine=True)\n",
       "        (relu.1): ReLU(inplace)\n",
       "        (conv.1): Conv2d (224, 128, kernel_size=(1, 1), stride=(1, 1), bias=False)\n",
       "        (norm.2): InstanceNorm2d(128, eps=1e-05, momentum=0.1, affine=True)\n",
       "        (relu.2): ReLU(inplace)\n",
       "        (conv.2): Conv2d (128, 32, kernel_size=(3, 3), stride=(1, 1), padding=(1, 1), bias=False)\n",
       "      )\n",
       "      (denselayer5): _DenseLayer(\n",
       "        (norm.1): InstanceNorm2d(256, eps=1e-05, momentum=0.1, affine=True)\n",
       "        (relu.1): ReLU(inplace)\n",
       "        (conv.1): Conv2d (256, 128, kernel_size=(1, 1), stride=(1, 1), bias=False)\n",
       "        (norm.2): InstanceNorm2d(128, eps=1e-05, momentum=0.1, affine=True)\n",
       "        (relu.2): ReLU(inplace)\n",
       "        (conv.2): Conv2d (128, 32, kernel_size=(3, 3), stride=(1, 1), padding=(1, 1), bias=False)\n",
       "      )\n",
       "      (denselayer6): _DenseLayer(\n",
       "        (norm.1): InstanceNorm2d(288, eps=1e-05, momentum=0.1, affine=True)\n",
       "        (relu.1): ReLU(inplace)\n",
       "        (conv.1): Conv2d (288, 128, kernel_size=(1, 1), stride=(1, 1), bias=False)\n",
       "        (norm.2): InstanceNorm2d(128, eps=1e-05, momentum=0.1, affine=True)\n",
       "        (relu.2): ReLU(inplace)\n",
       "        (conv.2): Conv2d (128, 32, kernel_size=(3, 3), stride=(1, 1), padding=(1, 1), bias=False)\n",
       "      )\n",
       "      (denselayer7): _DenseLayer(\n",
       "        (norm.1): InstanceNorm2d(320, eps=1e-05, momentum=0.1, affine=True)\n",
       "        (relu.1): ReLU(inplace)\n",
       "        (conv.1): Conv2d (320, 128, kernel_size=(1, 1), stride=(1, 1), bias=False)\n",
       "        (norm.2): InstanceNorm2d(128, eps=1e-05, momentum=0.1, affine=True)\n",
       "        (relu.2): ReLU(inplace)\n",
       "        (conv.2): Conv2d (128, 32, kernel_size=(3, 3), stride=(1, 1), padding=(1, 1), bias=False)\n",
       "      )\n",
       "      (denselayer8): _DenseLayer(\n",
       "        (norm.1): InstanceNorm2d(352, eps=1e-05, momentum=0.1, affine=True)\n",
       "        (relu.1): ReLU(inplace)\n",
       "        (conv.1): Conv2d (352, 128, kernel_size=(1, 1), stride=(1, 1), bias=False)\n",
       "        (norm.2): InstanceNorm2d(128, eps=1e-05, momentum=0.1, affine=True)\n",
       "        (relu.2): ReLU(inplace)\n",
       "        (conv.2): Conv2d (128, 32, kernel_size=(3, 3), stride=(1, 1), padding=(1, 1), bias=False)\n",
       "      )\n",
       "      (denselayer9): _DenseLayer(\n",
       "        (norm.1): InstanceNorm2d(384, eps=1e-05, momentum=0.1, affine=True)\n",
       "        (relu.1): ReLU(inplace)\n",
       "        (conv.1): Conv2d (384, 128, kernel_size=(1, 1), stride=(1, 1), bias=False)\n",
       "        (norm.2): InstanceNorm2d(128, eps=1e-05, momentum=0.1, affine=True)\n",
       "        (relu.2): ReLU(inplace)\n",
       "        (conv.2): Conv2d (128, 32, kernel_size=(3, 3), stride=(1, 1), padding=(1, 1), bias=False)\n",
       "      )\n",
       "      (denselayer10): _DenseLayer(\n",
       "        (norm.1): InstanceNorm2d(416, eps=1e-05, momentum=0.1, affine=True)\n",
       "        (relu.1): ReLU(inplace)\n",
       "        (conv.1): Conv2d (416, 128, kernel_size=(1, 1), stride=(1, 1), bias=False)\n",
       "        (norm.2): InstanceNorm2d(128, eps=1e-05, momentum=0.1, affine=True)\n",
       "        (relu.2): ReLU(inplace)\n",
       "        (conv.2): Conv2d (128, 32, kernel_size=(3, 3), stride=(1, 1), padding=(1, 1), bias=False)\n",
       "      )\n",
       "      (denselayer11): _DenseLayer(\n",
       "        (norm.1): InstanceNorm2d(448, eps=1e-05, momentum=0.1, affine=True)\n",
       "        (relu.1): ReLU(inplace)\n",
       "        (conv.1): Conv2d (448, 128, kernel_size=(1, 1), stride=(1, 1), bias=False)\n",
       "        (norm.2): InstanceNorm2d(128, eps=1e-05, momentum=0.1, affine=True)\n",
       "        (relu.2): ReLU(inplace)\n",
       "        (conv.2): Conv2d (128, 32, kernel_size=(3, 3), stride=(1, 1), padding=(1, 1), bias=False)\n",
       "      )\n",
       "      (denselayer12): _DenseLayer(\n",
       "        (norm.1): InstanceNorm2d(480, eps=1e-05, momentum=0.1, affine=True)\n",
       "        (relu.1): ReLU(inplace)\n",
       "        (conv.1): Conv2d (480, 128, kernel_size=(1, 1), stride=(1, 1), bias=False)\n",
       "        (norm.2): InstanceNorm2d(128, eps=1e-05, momentum=0.1, affine=True)\n",
       "        (relu.2): ReLU(inplace)\n",
       "        (conv.2): Conv2d (128, 32, kernel_size=(3, 3), stride=(1, 1), padding=(1, 1), bias=False)\n",
       "      )\n",
       "    )\n",
       "    (transition2): _Transition(\n",
       "      (norm): InstanceNorm2d(512, eps=1e-05, momentum=0.1, affine=True)\n",
       "      (relu): ReLU(inplace)\n",
       "      (conv): Conv2d (512, 256, kernel_size=(3, 3), stride=(2, 2), bias=False)\n",
       "    )\n",
       "    (denseblock3): _DenseBlock(\n",
       "      (denselayer1): _DenseLayer(\n",
       "        (norm.1): InstanceNorm2d(256, eps=1e-05, momentum=0.1, affine=True)\n",
       "        (relu.1): ReLU(inplace)\n",
       "        (conv.1): Conv2d (256, 128, kernel_size=(1, 1), stride=(1, 1), bias=False)\n",
       "        (norm.2): InstanceNorm2d(128, eps=1e-05, momentum=0.1, affine=True)\n",
       "        (relu.2): ReLU(inplace)\n",
       "        (conv.2): Conv2d (128, 32, kernel_size=(3, 3), stride=(1, 1), padding=(1, 1), bias=False)\n",
       "      )\n",
       "      (denselayer2): _DenseLayer(\n",
       "        (norm.1): InstanceNorm2d(288, eps=1e-05, momentum=0.1, affine=True)\n",
       "        (relu.1): ReLU(inplace)\n",
       "        (conv.1): Conv2d (288, 128, kernel_size=(1, 1), stride=(1, 1), bias=False)\n",
       "        (norm.2): InstanceNorm2d(128, eps=1e-05, momentum=0.1, affine=True)\n",
       "        (relu.2): ReLU(inplace)\n",
       "        (conv.2): Conv2d (128, 32, kernel_size=(3, 3), stride=(1, 1), padding=(1, 1), bias=False)\n",
       "      )\n",
       "      (denselayer3): _DenseLayer(\n",
       "        (norm.1): InstanceNorm2d(320, eps=1e-05, momentum=0.1, affine=True)\n",
       "        (relu.1): ReLU(inplace)\n",
       "        (conv.1): Conv2d (320, 128, kernel_size=(1, 1), stride=(1, 1), bias=False)\n",
       "        (norm.2): InstanceNorm2d(128, eps=1e-05, momentum=0.1, affine=True)\n",
       "        (relu.2): ReLU(inplace)\n",
       "        (conv.2): Conv2d (128, 32, kernel_size=(3, 3), stride=(1, 1), padding=(1, 1), bias=False)\n",
       "      )\n",
       "      (denselayer4): _DenseLayer(\n",
       "        (norm.1): InstanceNorm2d(352, eps=1e-05, momentum=0.1, affine=True)\n",
       "        (relu.1): ReLU(inplace)\n",
       "        (conv.1): Conv2d (352, 128, kernel_size=(1, 1), stride=(1, 1), bias=False)\n",
       "        (norm.2): InstanceNorm2d(128, eps=1e-05, momentum=0.1, affine=True)\n",
       "        (relu.2): ReLU(inplace)\n",
       "        (conv.2): Conv2d (128, 32, kernel_size=(3, 3), stride=(1, 1), padding=(1, 1), bias=False)\n",
       "      )\n",
       "      (denselayer5): _DenseLayer(\n",
       "        (norm.1): InstanceNorm2d(384, eps=1e-05, momentum=0.1, affine=True)\n",
       "        (relu.1): ReLU(inplace)\n",
       "        (conv.1): Conv2d (384, 128, kernel_size=(1, 1), stride=(1, 1), bias=False)\n",
       "        (norm.2): InstanceNorm2d(128, eps=1e-05, momentum=0.1, affine=True)\n",
       "        (relu.2): ReLU(inplace)\n",
       "        (conv.2): Conv2d (128, 32, kernel_size=(3, 3), stride=(1, 1), padding=(1, 1), bias=False)\n",
       "      )\n",
       "      (denselayer6): _DenseLayer(\n",
       "        (norm.1): InstanceNorm2d(416, eps=1e-05, momentum=0.1, affine=True)\n",
       "        (relu.1): ReLU(inplace)\n",
       "        (conv.1): Conv2d (416, 128, kernel_size=(1, 1), stride=(1, 1), bias=False)\n",
       "        (norm.2): InstanceNorm2d(128, eps=1e-05, momentum=0.1, affine=True)\n",
       "        (relu.2): ReLU(inplace)\n",
       "        (conv.2): Conv2d (128, 32, kernel_size=(3, 3), stride=(1, 1), padding=(1, 1), bias=False)\n",
       "      )\n",
       "      (denselayer7): _DenseLayer(\n",
       "        (norm.1): InstanceNorm2d(448, eps=1e-05, momentum=0.1, affine=True)\n",
       "        (relu.1): ReLU(inplace)\n",
       "        (conv.1): Conv2d (448, 128, kernel_size=(1, 1), stride=(1, 1), bias=False)\n",
       "        (norm.2): InstanceNorm2d(128, eps=1e-05, momentum=0.1, affine=True)\n",
       "        (relu.2): ReLU(inplace)\n",
       "        (conv.2): Conv2d (128, 32, kernel_size=(3, 3), stride=(1, 1), padding=(1, 1), bias=False)\n",
       "      )\n",
       "      (denselayer8): _DenseLayer(\n",
       "        (norm.1): InstanceNorm2d(480, eps=1e-05, momentum=0.1, affine=True)\n",
       "        (relu.1): ReLU(inplace)\n",
       "        (conv.1): Conv2d (480, 128, kernel_size=(1, 1), stride=(1, 1), bias=False)\n",
       "        (norm.2): InstanceNorm2d(128, eps=1e-05, momentum=0.1, affine=True)\n",
       "        (relu.2): ReLU(inplace)\n",
       "        (conv.2): Conv2d (128, 32, kernel_size=(3, 3), stride=(1, 1), padding=(1, 1), bias=False)\n",
       "      )\n",
       "      (denselayer9): _DenseLayer(\n",
       "        (norm.1): InstanceNorm2d(512, eps=1e-05, momentum=0.1, affine=True)\n",
       "        (relu.1): ReLU(inplace)\n",
       "        (conv.1): Conv2d (512, 128, kernel_size=(1, 1), stride=(1, 1), bias=False)\n",
       "        (norm.2): InstanceNorm2d(128, eps=1e-05, momentum=0.1, affine=True)\n",
       "        (relu.2): ReLU(inplace)\n",
       "        (conv.2): Conv2d (128, 32, kernel_size=(3, 3), stride=(1, 1), padding=(1, 1), bias=False)\n",
       "      )\n",
       "      (denselayer10): _DenseLayer(\n",
       "        (norm.1): InstanceNorm2d(544, eps=1e-05, momentum=0.1, affine=True)\n",
       "        (relu.1): ReLU(inplace)\n",
       "        (conv.1): Conv2d (544, 128, kernel_size=(1, 1), stride=(1, 1), bias=False)\n",
       "        (norm.2): InstanceNorm2d(128, eps=1e-05, momentum=0.1, affine=True)\n",
       "        (relu.2): ReLU(inplace)\n",
       "        (conv.2): Conv2d (128, 32, kernel_size=(3, 3), stride=(1, 1), padding=(1, 1), bias=False)\n",
       "      )\n",
       "      (denselayer11): _DenseLayer(\n",
       "        (norm.1): InstanceNorm2d(576, eps=1e-05, momentum=0.1, affine=True)\n",
       "        (relu.1): ReLU(inplace)\n",
       "        (conv.1): Conv2d (576, 128, kernel_size=(1, 1), stride=(1, 1), bias=False)\n",
       "        (norm.2): InstanceNorm2d(128, eps=1e-05, momentum=0.1, affine=True)\n",
       "        (relu.2): ReLU(inplace)\n",
       "        (conv.2): Conv2d (128, 32, kernel_size=(3, 3), stride=(1, 1), padding=(1, 1), bias=False)\n",
       "      )\n",
       "      (denselayer12): _DenseLayer(\n",
       "        (norm.1): InstanceNorm2d(608, eps=1e-05, momentum=0.1, affine=True)\n",
       "        (relu.1): ReLU(inplace)\n",
       "        (conv.1): Conv2d (608, 128, kernel_size=(1, 1), stride=(1, 1), bias=False)\n",
       "        (norm.2): InstanceNorm2d(128, eps=1e-05, momentum=0.1, affine=True)\n",
       "        (relu.2): ReLU(inplace)\n",
       "        (conv.2): Conv2d (128, 32, kernel_size=(3, 3), stride=(1, 1), padding=(1, 1), bias=False)\n",
       "      )\n",
       "      (denselayer13): _DenseLayer(\n",
       "        (norm.1): InstanceNorm2d(640, eps=1e-05, momentum=0.1, affine=True)\n",
       "        (relu.1): ReLU(inplace)\n",
       "        (conv.1): Conv2d (640, 128, kernel_size=(1, 1), stride=(1, 1), bias=False)\n",
       "        (norm.2): InstanceNorm2d(128, eps=1e-05, momentum=0.1, affine=True)\n",
       "        (relu.2): ReLU(inplace)\n",
       "        (conv.2): Conv2d (128, 32, kernel_size=(3, 3), stride=(1, 1), padding=(1, 1), bias=False)\n",
       "      )\n",
       "      (denselayer14): _DenseLayer(\n",
       "        (norm.1): InstanceNorm2d(672, eps=1e-05, momentum=0.1, affine=True)\n",
       "        (relu.1): ReLU(inplace)\n",
       "        (conv.1): Conv2d (672, 128, kernel_size=(1, 1), stride=(1, 1), bias=False)\n",
       "        (norm.2): InstanceNorm2d(128, eps=1e-05, momentum=0.1, affine=True)\n",
       "        (relu.2): ReLU(inplace)\n",
       "        (conv.2): Conv2d (128, 32, kernel_size=(3, 3), stride=(1, 1), padding=(1, 1), bias=False)\n",
       "      )\n",
       "      (denselayer15): _DenseLayer(\n",
       "        (norm.1): InstanceNorm2d(704, eps=1e-05, momentum=0.1, affine=True)\n",
       "        (relu.1): ReLU(inplace)\n",
       "        (conv.1): Conv2d (704, 128, kernel_size=(1, 1), stride=(1, 1), bias=False)\n",
       "        (norm.2): InstanceNorm2d(128, eps=1e-05, momentum=0.1, affine=True)\n",
       "        (relu.2): ReLU(inplace)\n",
       "        (conv.2): Conv2d (128, 32, kernel_size=(3, 3), stride=(1, 1), padding=(1, 1), bias=False)\n",
       "      )\n",
       "      (denselayer16): _DenseLayer(\n",
       "        (norm.1): InstanceNorm2d(736, eps=1e-05, momentum=0.1, affine=True)\n",
       "        (relu.1): ReLU(inplace)\n",
       "        (conv.1): Conv2d (736, 128, kernel_size=(1, 1), stride=(1, 1), bias=False)\n",
       "        (norm.2): InstanceNorm2d(128, eps=1e-05, momentum=0.1, affine=True)\n",
       "        (relu.2): ReLU(inplace)\n",
       "        (conv.2): Conv2d (128, 32, kernel_size=(3, 3), stride=(1, 1), padding=(1, 1), bias=False)\n",
       "      )\n",
       "      (denselayer17): _DenseLayer(\n",
       "        (norm.1): InstanceNorm2d(768, eps=1e-05, momentum=0.1, affine=True)\n",
       "        (relu.1): ReLU(inplace)\n",
       "        (conv.1): Conv2d (768, 128, kernel_size=(1, 1), stride=(1, 1), bias=False)\n",
       "        (norm.2): InstanceNorm2d(128, eps=1e-05, momentum=0.1, affine=True)\n",
       "        (relu.2): ReLU(inplace)\n",
       "        (conv.2): Conv2d (128, 32, kernel_size=(3, 3), stride=(1, 1), padding=(1, 1), bias=False)\n",
       "      )\n",
       "      (denselayer18): _DenseLayer(\n",
       "        (norm.1): InstanceNorm2d(800, eps=1e-05, momentum=0.1, affine=True)\n",
       "        (relu.1): ReLU(inplace)\n",
       "        (conv.1): Conv2d (800, 128, kernel_size=(1, 1), stride=(1, 1), bias=False)\n",
       "        (norm.2): InstanceNorm2d(128, eps=1e-05, momentum=0.1, affine=True)\n",
       "        (relu.2): ReLU(inplace)\n",
       "        (conv.2): Conv2d (128, 32, kernel_size=(3, 3), stride=(1, 1), padding=(1, 1), bias=False)\n",
       "      )\n",
       "      (denselayer19): _DenseLayer(\n",
       "        (norm.1): InstanceNorm2d(832, eps=1e-05, momentum=0.1, affine=True)\n",
       "        (relu.1): ReLU(inplace)\n",
       "        (conv.1): Conv2d (832, 128, kernel_size=(1, 1), stride=(1, 1), bias=False)\n",
       "        (norm.2): InstanceNorm2d(128, eps=1e-05, momentum=0.1, affine=True)\n",
       "        (relu.2): ReLU(inplace)\n",
       "        (conv.2): Conv2d (128, 32, kernel_size=(3, 3), stride=(1, 1), padding=(1, 1), bias=False)\n",
       "      )\n",
       "      (denselayer20): _DenseLayer(\n",
       "        (norm.1): InstanceNorm2d(864, eps=1e-05, momentum=0.1, affine=True)\n",
       "        (relu.1): ReLU(inplace)\n",
       "        (conv.1): Conv2d (864, 128, kernel_size=(1, 1), stride=(1, 1), bias=False)\n",
       "        (norm.2): InstanceNorm2d(128, eps=1e-05, momentum=0.1, affine=True)\n",
       "        (relu.2): ReLU(inplace)\n",
       "        (conv.2): Conv2d (128, 32, kernel_size=(3, 3), stride=(1, 1), padding=(1, 1), bias=False)\n",
       "      )\n",
       "      (denselayer21): _DenseLayer(\n",
       "        (norm.1): InstanceNorm2d(896, eps=1e-05, momentum=0.1, affine=True)\n",
       "        (relu.1): ReLU(inplace)\n",
       "        (conv.1): Conv2d (896, 128, kernel_size=(1, 1), stride=(1, 1), bias=False)\n",
       "        (norm.2): InstanceNorm2d(128, eps=1e-05, momentum=0.1, affine=True)\n",
       "        (relu.2): ReLU(inplace)\n",
       "        (conv.2): Conv2d (128, 32, kernel_size=(3, 3), stride=(1, 1), padding=(1, 1), bias=False)\n",
       "      )\n",
       "      (denselayer22): _DenseLayer(\n",
       "        (norm.1): InstanceNorm2d(928, eps=1e-05, momentum=0.1, affine=True)\n",
       "        (relu.1): ReLU(inplace)\n",
       "        (conv.1): Conv2d (928, 128, kernel_size=(1, 1), stride=(1, 1), bias=False)\n",
       "        (norm.2): InstanceNorm2d(128, eps=1e-05, momentum=0.1, affine=True)\n",
       "        (relu.2): ReLU(inplace)\n",
       "        (conv.2): Conv2d (128, 32, kernel_size=(3, 3), stride=(1, 1), padding=(1, 1), bias=False)\n",
       "      )\n",
       "      (denselayer23): _DenseLayer(\n",
       "        (norm.1): InstanceNorm2d(960, eps=1e-05, momentum=0.1, affine=True)\n",
       "        (relu.1): ReLU(inplace)\n",
       "        (conv.1): Conv2d (960, 128, kernel_size=(1, 1), stride=(1, 1), bias=False)\n",
       "        (norm.2): InstanceNorm2d(128, eps=1e-05, momentum=0.1, affine=True)\n",
       "        (relu.2): ReLU(inplace)\n",
       "        (conv.2): Conv2d (128, 32, kernel_size=(3, 3), stride=(1, 1), padding=(1, 1), bias=False)\n",
       "      )\n",
       "      (denselayer24): _DenseLayer(\n",
       "        (norm.1): InstanceNorm2d(992, eps=1e-05, momentum=0.1, affine=True)\n",
       "        (relu.1): ReLU(inplace)\n",
       "        (conv.1): Conv2d (992, 128, kernel_size=(1, 1), stride=(1, 1), bias=False)\n",
       "        (norm.2): InstanceNorm2d(128, eps=1e-05, momentum=0.1, affine=True)\n",
       "        (relu.2): ReLU(inplace)\n",
       "        (conv.2): Conv2d (128, 32, kernel_size=(3, 3), stride=(1, 1), padding=(1, 1), bias=False)\n",
       "      )\n",
       "    )\n",
       "    (transition3): _Transition(\n",
       "      (norm): InstanceNorm2d(1024, eps=1e-05, momentum=0.1, affine=True)\n",
       "      (relu): ReLU(inplace)\n",
       "      (conv): Conv2d (1024, 512, kernel_size=(3, 3), stride=(2, 2), bias=False)\n",
       "    )\n",
       "    (denseblock4): _DenseBlock(\n",
       "      (denselayer1): _DenseLayer(\n",
       "        (norm.1): InstanceNorm2d(512, eps=1e-05, momentum=0.1, affine=True)\n",
       "        (relu.1): ReLU(inplace)\n",
       "        (conv.1): Conv2d (512, 128, kernel_size=(1, 1), stride=(1, 1), bias=False)\n",
       "        (norm.2): InstanceNorm2d(128, eps=1e-05, momentum=0.1, affine=True)\n",
       "        (relu.2): ReLU(inplace)\n",
       "        (conv.2): Conv2d (128, 32, kernel_size=(3, 3), stride=(1, 1), padding=(1, 1), bias=False)\n",
       "      )\n",
       "      (denselayer2): _DenseLayer(\n",
       "        (norm.1): InstanceNorm2d(544, eps=1e-05, momentum=0.1, affine=True)\n",
       "        (relu.1): ReLU(inplace)\n",
       "        (conv.1): Conv2d (544, 128, kernel_size=(1, 1), stride=(1, 1), bias=False)\n",
       "        (norm.2): InstanceNorm2d(128, eps=1e-05, momentum=0.1, affine=True)\n",
       "        (relu.2): ReLU(inplace)\n",
       "        (conv.2): Conv2d (128, 32, kernel_size=(3, 3), stride=(1, 1), padding=(1, 1), bias=False)\n",
       "      )\n",
       "      (denselayer3): _DenseLayer(\n",
       "        (norm.1): InstanceNorm2d(576, eps=1e-05, momentum=0.1, affine=True)\n",
       "        (relu.1): ReLU(inplace)\n",
       "        (conv.1): Conv2d (576, 128, kernel_size=(1, 1), stride=(1, 1), bias=False)\n",
       "        (norm.2): InstanceNorm2d(128, eps=1e-05, momentum=0.1, affine=True)\n",
       "        (relu.2): ReLU(inplace)\n",
       "        (conv.2): Conv2d (128, 32, kernel_size=(3, 3), stride=(1, 1), padding=(1, 1), bias=False)\n",
       "      )\n",
       "      (denselayer4): _DenseLayer(\n",
       "        (norm.1): InstanceNorm2d(608, eps=1e-05, momentum=0.1, affine=True)\n",
       "        (relu.1): ReLU(inplace)\n",
       "        (conv.1): Conv2d (608, 128, kernel_size=(1, 1), stride=(1, 1), bias=False)\n",
       "        (norm.2): InstanceNorm2d(128, eps=1e-05, momentum=0.1, affine=True)\n",
       "        (relu.2): ReLU(inplace)\n",
       "        (conv.2): Conv2d (128, 32, kernel_size=(3, 3), stride=(1, 1), padding=(1, 1), bias=False)\n",
       "      )\n",
       "      (denselayer5): _DenseLayer(\n",
       "        (norm.1): InstanceNorm2d(640, eps=1e-05, momentum=0.1, affine=True)\n",
       "        (relu.1): ReLU(inplace)\n",
       "        (conv.1): Conv2d (640, 128, kernel_size=(1, 1), stride=(1, 1), bias=False)\n",
       "        (norm.2): InstanceNorm2d(128, eps=1e-05, momentum=0.1, affine=True)\n",
       "        (relu.2): ReLU(inplace)\n",
       "        (conv.2): Conv2d (128, 32, kernel_size=(3, 3), stride=(1, 1), padding=(1, 1), bias=False)\n",
       "      )\n",
       "      (denselayer6): _DenseLayer(\n",
       "        (norm.1): InstanceNorm2d(672, eps=1e-05, momentum=0.1, affine=True)\n",
       "        (relu.1): ReLU(inplace)\n",
       "        (conv.1): Conv2d (672, 128, kernel_size=(1, 1), stride=(1, 1), bias=False)\n",
       "        (norm.2): InstanceNorm2d(128, eps=1e-05, momentum=0.1, affine=True)\n",
       "        (relu.2): ReLU(inplace)\n",
       "        (conv.2): Conv2d (128, 32, kernel_size=(3, 3), stride=(1, 1), padding=(1, 1), bias=False)\n",
       "      )\n",
       "      (denselayer7): _DenseLayer(\n",
       "        (norm.1): InstanceNorm2d(704, eps=1e-05, momentum=0.1, affine=True)\n",
       "        (relu.1): ReLU(inplace)\n",
       "        (conv.1): Conv2d (704, 128, kernel_size=(1, 1), stride=(1, 1), bias=False)\n",
       "        (norm.2): InstanceNorm2d(128, eps=1e-05, momentum=0.1, affine=True)\n",
       "        (relu.2): ReLU(inplace)\n",
       "        (conv.2): Conv2d (128, 32, kernel_size=(3, 3), stride=(1, 1), padding=(1, 1), bias=False)\n",
       "      )\n",
       "      (denselayer8): _DenseLayer(\n",
       "        (norm.1): InstanceNorm2d(736, eps=1e-05, momentum=0.1, affine=True)\n",
       "        (relu.1): ReLU(inplace)\n",
       "        (conv.1): Conv2d (736, 128, kernel_size=(1, 1), stride=(1, 1), bias=False)\n",
       "        (norm.2): InstanceNorm2d(128, eps=1e-05, momentum=0.1, affine=True)\n",
       "        (relu.2): ReLU(inplace)\n",
       "        (conv.2): Conv2d (128, 32, kernel_size=(3, 3), stride=(1, 1), padding=(1, 1), bias=False)\n",
       "      )\n",
       "      (denselayer9): _DenseLayer(\n",
       "        (norm.1): InstanceNorm2d(768, eps=1e-05, momentum=0.1, affine=True)\n",
       "        (relu.1): ReLU(inplace)\n",
       "        (conv.1): Conv2d (768, 128, kernel_size=(1, 1), stride=(1, 1), bias=False)\n",
       "        (norm.2): InstanceNorm2d(128, eps=1e-05, momentum=0.1, affine=True)\n",
       "        (relu.2): ReLU(inplace)\n",
       "        (conv.2): Conv2d (128, 32, kernel_size=(3, 3), stride=(1, 1), padding=(1, 1), bias=False)\n",
       "      )\n",
       "      (denselayer10): _DenseLayer(\n",
       "        (norm.1): InstanceNorm2d(800, eps=1e-05, momentum=0.1, affine=True)\n",
       "        (relu.1): ReLU(inplace)\n",
       "        (conv.1): Conv2d (800, 128, kernel_size=(1, 1), stride=(1, 1), bias=False)\n",
       "        (norm.2): InstanceNorm2d(128, eps=1e-05, momentum=0.1, affine=True)\n",
       "        (relu.2): ReLU(inplace)\n",
       "        (conv.2): Conv2d (128, 32, kernel_size=(3, 3), stride=(1, 1), padding=(1, 1), bias=False)\n",
       "      )\n",
       "      (denselayer11): _DenseLayer(\n",
       "        (norm.1): InstanceNorm2d(832, eps=1e-05, momentum=0.1, affine=True)\n",
       "        (relu.1): ReLU(inplace)\n",
       "        (conv.1): Conv2d (832, 128, kernel_size=(1, 1), stride=(1, 1), bias=False)\n",
       "        (norm.2): InstanceNorm2d(128, eps=1e-05, momentum=0.1, affine=True)\n",
       "        (relu.2): ReLU(inplace)\n",
       "        (conv.2): Conv2d (128, 32, kernel_size=(3, 3), stride=(1, 1), padding=(1, 1), bias=False)\n",
       "      )\n",
       "      (denselayer12): _DenseLayer(\n",
       "        (norm.1): InstanceNorm2d(864, eps=1e-05, momentum=0.1, affine=True)\n",
       "        (relu.1): ReLU(inplace)\n",
       "        (conv.1): Conv2d (864, 128, kernel_size=(1, 1), stride=(1, 1), bias=False)\n",
       "        (norm.2): InstanceNorm2d(128, eps=1e-05, momentum=0.1, affine=True)\n",
       "        (relu.2): ReLU(inplace)\n",
       "        (conv.2): Conv2d (128, 32, kernel_size=(3, 3), stride=(1, 1), padding=(1, 1), bias=False)\n",
       "      )\n",
       "      (denselayer13): _DenseLayer(\n",
       "        (norm.1): InstanceNorm2d(896, eps=1e-05, momentum=0.1, affine=True)\n",
       "        (relu.1): ReLU(inplace)\n",
       "        (conv.1): Conv2d (896, 128, kernel_size=(1, 1), stride=(1, 1), bias=False)\n",
       "        (norm.2): InstanceNorm2d(128, eps=1e-05, momentum=0.1, affine=True)\n",
       "        (relu.2): ReLU(inplace)\n",
       "        (conv.2): Conv2d (128, 32, kernel_size=(3, 3), stride=(1, 1), padding=(1, 1), bias=False)\n",
       "      )\n",
       "      (denselayer14): _DenseLayer(\n",
       "        (norm.1): InstanceNorm2d(928, eps=1e-05, momentum=0.1, affine=True)\n",
       "        (relu.1): ReLU(inplace)\n",
       "        (conv.1): Conv2d (928, 128, kernel_size=(1, 1), stride=(1, 1), bias=False)\n",
       "        (norm.2): InstanceNorm2d(128, eps=1e-05, momentum=0.1, affine=True)\n",
       "        (relu.2): ReLU(inplace)\n",
       "        (conv.2): Conv2d (128, 32, kernel_size=(3, 3), stride=(1, 1), padding=(1, 1), bias=False)\n",
       "      )\n",
       "      (denselayer15): _DenseLayer(\n",
       "        (norm.1): InstanceNorm2d(960, eps=1e-05, momentum=0.1, affine=True)\n",
       "        (relu.1): ReLU(inplace)\n",
       "        (conv.1): Conv2d (960, 128, kernel_size=(1, 1), stride=(1, 1), bias=False)\n",
       "        (norm.2): InstanceNorm2d(128, eps=1e-05, momentum=0.1, affine=True)\n",
       "        (relu.2): ReLU(inplace)\n",
       "        (conv.2): Conv2d (128, 32, kernel_size=(3, 3), stride=(1, 1), padding=(1, 1), bias=False)\n",
       "      )\n",
       "      (denselayer16): _DenseLayer(\n",
       "        (norm.1): InstanceNorm2d(992, eps=1e-05, momentum=0.1, affine=True)\n",
       "        (relu.1): ReLU(inplace)\n",
       "        (conv.1): Conv2d (992, 128, kernel_size=(1, 1), stride=(1, 1), bias=False)\n",
       "        (norm.2): InstanceNorm2d(128, eps=1e-05, momentum=0.1, affine=True)\n",
       "        (relu.2): ReLU(inplace)\n",
       "        (conv.2): Conv2d (128, 32, kernel_size=(3, 3), stride=(1, 1), padding=(1, 1), bias=False)\n",
       "      )\n",
       "    )\n",
       "    (transition4): _Transition(\n",
       "      (norm): InstanceNorm2d(1024, eps=1e-05, momentum=0.1, affine=True)\n",
       "      (relu): ReLU(inplace)\n",
       "      (conv): Conv2d (1024, 512, kernel_size=(3, 3), stride=(2, 2), bias=False)\n",
       "    )\n",
       "    (denseblock5): _DenseBlock(\n",
       "      (denselayer1): _DenseLayer(\n",
       "        (norm.1): InstanceNorm2d(512, eps=1e-05, momentum=0.1, affine=True)\n",
       "        (relu.1): ReLU(inplace)\n",
       "        (conv.1): Conv2d (512, 128, kernel_size=(1, 1), stride=(1, 1), bias=False)\n",
       "        (norm.2): InstanceNorm2d(128, eps=1e-05, momentum=0.1, affine=True)\n",
       "        (relu.2): ReLU(inplace)\n",
       "        (conv.2): Conv2d (128, 32, kernel_size=(3, 3), stride=(1, 1), padding=(1, 1), bias=False)\n",
       "      )\n",
       "      (denselayer2): _DenseLayer(\n",
       "        (norm.1): InstanceNorm2d(544, eps=1e-05, momentum=0.1, affine=True)\n",
       "        (relu.1): ReLU(inplace)\n",
       "        (conv.1): Conv2d (544, 128, kernel_size=(1, 1), stride=(1, 1), bias=False)\n",
       "        (norm.2): InstanceNorm2d(128, eps=1e-05, momentum=0.1, affine=True)\n",
       "        (relu.2): ReLU(inplace)\n",
       "        (conv.2): Conv2d (128, 32, kernel_size=(3, 3), stride=(1, 1), padding=(1, 1), bias=False)\n",
       "      )\n",
       "      (denselayer3): _DenseLayer(\n",
       "        (norm.1): InstanceNorm2d(576, eps=1e-05, momentum=0.1, affine=True)\n",
       "        (relu.1): ReLU(inplace)\n",
       "        (conv.1): Conv2d (576, 128, kernel_size=(1, 1), stride=(1, 1), bias=False)\n",
       "        (norm.2): InstanceNorm2d(128, eps=1e-05, momentum=0.1, affine=True)\n",
       "        (relu.2): ReLU(inplace)\n",
       "        (conv.2): Conv2d (128, 32, kernel_size=(3, 3), stride=(1, 1), padding=(1, 1), bias=False)\n",
       "      )\n",
       "      (denselayer4): _DenseLayer(\n",
       "        (norm.1): InstanceNorm2d(608, eps=1e-05, momentum=0.1, affine=True)\n",
       "        (relu.1): ReLU(inplace)\n",
       "        (conv.1): Conv2d (608, 128, kernel_size=(1, 1), stride=(1, 1), bias=False)\n",
       "        (norm.2): InstanceNorm2d(128, eps=1e-05, momentum=0.1, affine=True)\n",
       "        (relu.2): ReLU(inplace)\n",
       "        (conv.2): Conv2d (128, 32, kernel_size=(3, 3), stride=(1, 1), padding=(1, 1), bias=False)\n",
       "      )\n",
       "      (denselayer5): _DenseLayer(\n",
       "        (norm.1): InstanceNorm2d(640, eps=1e-05, momentum=0.1, affine=True)\n",
       "        (relu.1): ReLU(inplace)\n",
       "        (conv.1): Conv2d (640, 128, kernel_size=(1, 1), stride=(1, 1), bias=False)\n",
       "        (norm.2): InstanceNorm2d(128, eps=1e-05, momentum=0.1, affine=True)\n",
       "        (relu.2): ReLU(inplace)\n",
       "        (conv.2): Conv2d (128, 32, kernel_size=(3, 3), stride=(1, 1), padding=(1, 1), bias=False)\n",
       "      )\n",
       "      (denselayer6): _DenseLayer(\n",
       "        (norm.1): InstanceNorm2d(672, eps=1e-05, momentum=0.1, affine=True)\n",
       "        (relu.1): ReLU(inplace)\n",
       "        (conv.1): Conv2d (672, 128, kernel_size=(1, 1), stride=(1, 1), bias=False)\n",
       "        (norm.2): InstanceNorm2d(128, eps=1e-05, momentum=0.1, affine=True)\n",
       "        (relu.2): ReLU(inplace)\n",
       "        (conv.2): Conv2d (128, 32, kernel_size=(3, 3), stride=(1, 1), padding=(1, 1), bias=False)\n",
       "      )\n",
       "      (denselayer7): _DenseLayer(\n",
       "        (norm.1): InstanceNorm2d(704, eps=1e-05, momentum=0.1, affine=True)\n",
       "        (relu.1): ReLU(inplace)\n",
       "        (conv.1): Conv2d (704, 128, kernel_size=(1, 1), stride=(1, 1), bias=False)\n",
       "        (norm.2): InstanceNorm2d(128, eps=1e-05, momentum=0.1, affine=True)\n",
       "        (relu.2): ReLU(inplace)\n",
       "        (conv.2): Conv2d (128, 32, kernel_size=(3, 3), stride=(1, 1), padding=(1, 1), bias=False)\n",
       "      )\n",
       "      (denselayer8): _DenseLayer(\n",
       "        (norm.1): InstanceNorm2d(736, eps=1e-05, momentum=0.1, affine=True)\n",
       "        (relu.1): ReLU(inplace)\n",
       "        (conv.1): Conv2d (736, 128, kernel_size=(1, 1), stride=(1, 1), bias=False)\n",
       "        (norm.2): InstanceNorm2d(128, eps=1e-05, momentum=0.1, affine=True)\n",
       "        (relu.2): ReLU(inplace)\n",
       "        (conv.2): Conv2d (128, 32, kernel_size=(3, 3), stride=(1, 1), padding=(1, 1), bias=False)\n",
       "      )\n",
       "      (denselayer9): _DenseLayer(\n",
       "        (norm.1): InstanceNorm2d(768, eps=1e-05, momentum=0.1, affine=True)\n",
       "        (relu.1): ReLU(inplace)\n",
       "        (conv.1): Conv2d (768, 128, kernel_size=(1, 1), stride=(1, 1), bias=False)\n",
       "        (norm.2): InstanceNorm2d(128, eps=1e-05, momentum=0.1, affine=True)\n",
       "        (relu.2): ReLU(inplace)\n",
       "        (conv.2): Conv2d (128, 32, kernel_size=(3, 3), stride=(1, 1), padding=(1, 1), bias=False)\n",
       "      )\n",
       "      (denselayer10): _DenseLayer(\n",
       "        (norm.1): InstanceNorm2d(800, eps=1e-05, momentum=0.1, affine=True)\n",
       "        (relu.1): ReLU(inplace)\n",
       "        (conv.1): Conv2d (800, 128, kernel_size=(1, 1), stride=(1, 1), bias=False)\n",
       "        (norm.2): InstanceNorm2d(128, eps=1e-05, momentum=0.1, affine=True)\n",
       "        (relu.2): ReLU(inplace)\n",
       "        (conv.2): Conv2d (128, 32, kernel_size=(3, 3), stride=(1, 1), padding=(1, 1), bias=False)\n",
       "      )\n",
       "      (denselayer11): _DenseLayer(\n",
       "        (norm.1): InstanceNorm2d(832, eps=1e-05, momentum=0.1, affine=True)\n",
       "        (relu.1): ReLU(inplace)\n",
       "        (conv.1): Conv2d (832, 128, kernel_size=(1, 1), stride=(1, 1), bias=False)\n",
       "        (norm.2): InstanceNorm2d(128, eps=1e-05, momentum=0.1, affine=True)\n",
       "        (relu.2): ReLU(inplace)\n",
       "        (conv.2): Conv2d (128, 32, kernel_size=(3, 3), stride=(1, 1), padding=(1, 1), bias=False)\n",
       "      )\n",
       "      (denselayer12): _DenseLayer(\n",
       "        (norm.1): InstanceNorm2d(864, eps=1e-05, momentum=0.1, affine=True)\n",
       "        (relu.1): ReLU(inplace)\n",
       "        (conv.1): Conv2d (864, 128, kernel_size=(1, 1), stride=(1, 1), bias=False)\n",
       "        (norm.2): InstanceNorm2d(128, eps=1e-05, momentum=0.1, affine=True)\n",
       "        (relu.2): ReLU(inplace)\n",
       "        (conv.2): Conv2d (128, 32, kernel_size=(3, 3), stride=(1, 1), padding=(1, 1), bias=False)\n",
       "      )\n",
       "      (denselayer13): _DenseLayer(\n",
       "        (norm.1): InstanceNorm2d(896, eps=1e-05, momentum=0.1, affine=True)\n",
       "        (relu.1): ReLU(inplace)\n",
       "        (conv.1): Conv2d (896, 128, kernel_size=(1, 1), stride=(1, 1), bias=False)\n",
       "        (norm.2): InstanceNorm2d(128, eps=1e-05, momentum=0.1, affine=True)\n",
       "        (relu.2): ReLU(inplace)\n",
       "        (conv.2): Conv2d (128, 32, kernel_size=(3, 3), stride=(1, 1), padding=(1, 1), bias=False)\n",
       "      )\n",
       "      (denselayer14): _DenseLayer(\n",
       "        (norm.1): InstanceNorm2d(928, eps=1e-05, momentum=0.1, affine=True)\n",
       "        (relu.1): ReLU(inplace)\n",
       "        (conv.1): Conv2d (928, 128, kernel_size=(1, 1), stride=(1, 1), bias=False)\n",
       "        (norm.2): InstanceNorm2d(128, eps=1e-05, momentum=0.1, affine=True)\n",
       "        (relu.2): ReLU(inplace)\n",
       "        (conv.2): Conv2d (128, 32, kernel_size=(3, 3), stride=(1, 1), padding=(1, 1), bias=False)\n",
       "      )\n",
       "      (denselayer15): _DenseLayer(\n",
       "        (norm.1): InstanceNorm2d(960, eps=1e-05, momentum=0.1, affine=True)\n",
       "        (relu.1): ReLU(inplace)\n",
       "        (conv.1): Conv2d (960, 128, kernel_size=(1, 1), stride=(1, 1), bias=False)\n",
       "        (norm.2): InstanceNorm2d(128, eps=1e-05, momentum=0.1, affine=True)\n",
       "        (relu.2): ReLU(inplace)\n",
       "        (conv.2): Conv2d (128, 32, kernel_size=(3, 3), stride=(1, 1), padding=(1, 1), bias=False)\n",
       "      )\n",
       "      (denselayer16): _DenseLayer(\n",
       "        (norm.1): InstanceNorm2d(992, eps=1e-05, momentum=0.1, affine=True)\n",
       "        (relu.1): ReLU(inplace)\n",
       "        (conv.1): Conv2d (992, 128, kernel_size=(1, 1), stride=(1, 1), bias=False)\n",
       "        (norm.2): InstanceNorm2d(128, eps=1e-05, momentum=0.1, affine=True)\n",
       "        (relu.2): ReLU(inplace)\n",
       "        (conv.2): Conv2d (128, 32, kernel_size=(3, 3), stride=(1, 1), padding=(1, 1), bias=False)\n",
       "      )\n",
       "    )\n",
       "    (norm5): InstanceNorm2d(1024, eps=1e-05, momentum=0.1, affine=True)\n",
       "  )\n",
       "  (classifier): Linear(in_features=1024, out_features=1000)\n",
       ")"
      ]
     },
     "execution_count": 1,
     "metadata": {},
     "output_type": "execute_result"
    }
   ],
   "source": [
    "import torch\n",
    "import torch.nn as nn\n",
    "import torch.optim as optim\n",
    "from torch.optim import lr_scheduler\n",
    "from torch.autograd import Variable\n",
    "import numpy as np\n",
    "import torchvision\n",
    "from torchvision import datasets, models, transforms\n",
    "import matplotlib.pyplot as plt\n",
    "import PIL\n",
    "import time\n",
    "from os import listdir\n",
    "from os.path import isfile, join\n",
    "import torch.nn.functional as F\n",
    "from tqdm import tqdm_notebook\n",
    "import util\n",
    "import densenet as ds\n",
    "import pspmodule as PSP\n",
    "\n",
    "filelist = [f for f in listdir('D:/DataSet/AerialImageDataset/train/images') if isfile(join('D:/DataSet/AerialImageDataset/train/images', f))]\n",
    "labels_path = 'D:/DataSet/AerialImageDataset/train/gt/'\n",
    "images_path = 'D:/DataSet/AerialImageDataset/train/images/'\n",
    "val_path = 'D:/DataSet/AerialImageDataset/train/val/'\n",
    "plt.rcParams[\"figure.figsize\"] = (12,8)\n",
    "densenet = ds.densenet121(pretrained=True)\n",
    "densenet"
   ]
  },
  {
   "cell_type": "code",
   "execution_count": 2,
   "metadata": {
    "collapsed": true
   },
   "outputs": [],
   "source": [
    "for n,m in densenet.features.named_children():\n",
    "    if('denseblock1') in n:\n",
    "        for n,m in m.named_children():\n",
    "            for n,m in m.named_children():\n",
    "#                 print(n)\n",
    "                if('conv.2') in n:\n",
    "                    m.dilation, m.padding, m.stride = (2, 2), (2, 2), (1, 1)\n",
    "\n",
    "                    \n",
    "#     elif('denseblock2') in n:\n",
    "#         for n,m in m.named_children():\n",
    "#             for n,m in m.named_children():\n",
    "# #                 print(n)\n",
    "#                 if('conv.2') in n:\n",
    "#                     m.dilation, m.padding, m.stride = (2, 2), (2, 2), (1, 1)\n",
    "\n",
    "#     elif('denseblock3') in n:\n",
    "#         for n,m in m.named_children():\n",
    "#             for n,m in m.named_children():\n",
    "# #                 print(n)\n",
    "#                 if('conv.2') in n:\n",
    "#                     m.dilation, m.padding, m.stride = (2, 2), (2, 2), (1, 1)\n",
    "# #                     print(m)\n",
    "\n",
    "    "
   ]
  },
  {
   "cell_type": "code",
   "execution_count": 3,
   "metadata": {
    "collapsed": true
   },
   "outputs": [],
   "source": [
    "REDUCE_44 = 256\n",
    "REDUCE_33 = 128\n",
    "REDUCE_22 = 64\n",
    "REDUCE_11 = 32\n",
    "\n",
    "class Dense_Net_Feature(nn.Module):\n",
    "    def __init__(self):\n",
    "        super(Dense_Net_Feature, self).__init__()\n",
    "        \n",
    "        \n",
    "        self.layer0 = nn.Sequential(densenet.features.conv0, densenet.features.norm0, densenet.features.relu0, densenet.features.pool0)\n",
    "        self.denseblock1 = densenet.features.denseblock1\n",
    "        self.transition1 = densenet.features.transition1\n",
    "        self.denseblock2 = densenet.features.denseblock2\n",
    "        self.transition2 = densenet.features.transition2\n",
    "        self.denseblock3 = densenet.features.denseblock3\n",
    "        self.transition3 = densenet.features.transition3\n",
    "        self.denseblock4 = densenet.features.denseblock4\n",
    "        self.transition4 = densenet.features.transition4\n",
    "        self.denseblock5 = densenet.features.denseblock5\n",
    "        \n",
    "        self.final = nn.Sequential(\n",
    "            nn.Conv2d(20, 10, kernel_size=3, padding=1),\n",
    "            nn.ReLU(inplace=True),\n",
    "            nn.Conv2d(10, 2, kernel_size=3,padding=1)\n",
    "        )\n",
    "        \n",
    "#         self.BR0 = PSP.BoundaryRefine(50,50)\n",
    "        self.BR1 = PSP.BoundaryRefine(64,64)\n",
    "        self.BR2 = PSP.BoundaryRefine(128+64,128+64)\n",
    "        self.BR3 = PSP.BoundaryRefine(128,128)\n",
    "        \n",
    "        \n",
    "        self.reducedim1 = nn.Conv2d(64,20,kernel_size=3,padding=1,bias=False)\n",
    "        self.reducedim2 = nn.Conv2d(128+64,32,kernel_size=3,padding=1,bias=False)\n",
    "        self.reducedim3 = nn.Conv2d(1024+1024,128,kernel_size=3,padding=1,bias=False)\n",
    "#         self.reducedim3 = nn.Conv2d(1024+1024,128,kernel_size=3,padding=1,bias=False)\n",
    "#         self.reducedim = nn.Conv2d(256+256,50,kernel_size=3,padding=1,bias=False)\n",
    "        self.reducedim11 = nn.Conv2d(256,32,kernel_size=3,padding=1,bias=False)\n",
    "        self.reducedim22 = nn.Conv2d(512,64,kernel_size=3,padding=1,bias=False)\n",
    "        self.reducedim33 = nn.Conv2d(1024,64,kernel_size=3,padding=1,bias=False)\n",
    "        self.reducedim44 = nn.Conv2d(1024,64,kernel_size=3,padding=1,bias=False)\n",
    "        self.PSP = PSP.PSPModule(1024,64)\n",
    "\n",
    "    def forward(self, x):\n",
    "        x_size = x.size()\n",
    "        \n",
    "        out = self.layer0(x)\n",
    "        \n",
    "        \n",
    "        out = self.denseblock1(out)#256\n",
    "        out4 = self.reducedim11(out)#32\n",
    "        \n",
    "        out = self.transition1(out)\n",
    "        out = self.denseblock2(out)#512\n",
    "        out8 = self.reducedim22(out)#64\n",
    "        \n",
    "        out = self.transition2(out)\n",
    "        out = self.denseblock3(out)#1024\n",
    "        out16 = self.reducedim33(out)#64\n",
    "        \n",
    "        out = self.transition3(out)\n",
    "        out = self.denseblock4(out)#1024\n",
    "        out32 = self.PSP(out)\n",
    "        \n",
    "        \n",
    "        out = torch.cat((F.upsample(out32,(out16.size()[2],out16.size()[3]),mode='bilinear'),out16),1)#64+64\n",
    "#         out = self.reducedim3(out)\n",
    "        out = self.BR3(out)\n",
    "#         out = self.reducedim3(out)\n",
    "        \n",
    "        out = torch.cat((F.upsample(out,(out8.size()[2],out8.size()[3]),mode='bilinear'),out8),1)#128+64\n",
    "#       \n",
    "        out = self.BR2(out)\n",
    "        out = self.reducedim2(out)\n",
    "        \n",
    "        out = torch.cat((F.upsample(out,(out4.size()[2],out4.size()[3]),mode='bilinear'),out4),1)#32+32\n",
    "        \n",
    "        out = self.BR1(out)\n",
    "        out = self.reducedim1(out)\n",
    "        \n",
    "        out = F.upsample(out,(x_size[2],x_size[3]),mode='bilinear')\n",
    "    \n",
    "        out = self.final(out)\n",
    "        \n",
    "        return out\n"
   ]
  },
  {
   "cell_type": "code",
   "execution_count": 4,
   "metadata": {
    "collapsed": false
   },
   "outputs": [],
   "source": [
    "densenet_f = Dense_Net_Feature()\n",
    "\n",
    "# densenet_f = densenet_f.cuda()\n",
    "# densenet_f\n",
    "def test_acc(densenet_f):\n",
    "    \n",
    "    test_list = ['austin1.tif',\n",
    "                 'austin2.tif','austin3.tif','austin4.tif','austin5.tif',\n",
    "                 'chicago1.tif','chicago2.tif','chicago3.tif','chicago4.tif','chicago5.tif',\n",
    "                 'kitsap1.tif','kitsap2.tif','kitsap3.tif','kitsap4.tif','kitsap5.tif',\n",
    "                 'tyrol-w1.tif','tyrol-w2.tif','tyrol-w3.tif','tyrol-w4.tif','tyrol-w5.tif',\n",
    "                 'vienna1.tif','vienna2.tif','vienna3.tif','vienna4.tif','vienna5.tif'\n",
    "                ]\n",
    "    TEST_SIZE = 1040\n",
    "    PAD_WIDTH = 20\n",
    "    SLIDE_SIZE = TEST_SIZE-2*PAD_WIDTH\n",
    "    test_transform = transforms.Compose([\n",
    "        transforms.Pad(PAD_WIDTH),\n",
    "        transforms.ToTensor()\n",
    "    ])\n",
    "    total_acc = 0.0\n",
    "    for file in test_list:\n",
    "        test_im = test_transform(PIL.Image.open(val_path+file)).unsqueeze(0)\n",
    "        label_im = PIL.Image.open(labels_path+file)\n",
    "        label_im = np.asarray(label_im)\n",
    "        label_im = label_im==255\n",
    "        for i in range(5000//SLIDE_SIZE):\n",
    "            for j in range(5000//SLIDE_SIZE):\n",
    "                \n",
    "                test = Variable(test_im[:,:,i*SLIDE_SIZE:i*SLIDE_SIZE+TEST_SIZE,j*SLIDE_SIZE:j*SLIDE_SIZE+TEST_SIZE].cuda(),volatile=True)\n",
    "                densenet_f.eval()\n",
    "                out = densenet_f(test)\n",
    "                m = nn.Softmax2d()\n",
    "                out = m(out)\n",
    "                out = (out.cpu()[0].data.numpy()).transpose((1, 2, 0))\n",
    "                out_predict = out[:,:,1]>out[:,:,0]\n",
    "                label_im_test = label_im[i*SLIDE_SIZE:i*SLIDE_SIZE+SLIDE_SIZE,j*SLIDE_SIZE:j*SLIDE_SIZE+SLIDE_SIZE]\n",
    "\n",
    "                acc = ((~np.logical_xor(out_predict[PAD_WIDTH:-PAD_WIDTH,PAD_WIDTH:-PAD_WIDTH],label_im_test))*1.0).sum()/(SLIDE_SIZE*SLIDE_SIZE)\n",
    "                total_acc+=acc\n",
    "#                 print('filename = {}, (i,j) = {},{} ,ACC={}'.format(file,i,j,acc))\n",
    "    total_acc = total_acc / ((5000//SLIDE_SIZE)*(5000//SLIDE_SIZE)*len(test_list))\n",
    "    print('total_acc: ',total_acc)   \n",
    "    return total_acc"
   ]
  },
  {
   "cell_type": "code",
   "execution_count": 5,
   "metadata": {
    "collapsed": false
   },
   "outputs": [],
   "source": [
    "def train_model(model ,criterion, optimizer, scheduler, num_epochs=10):\n",
    "    since = time.time()\n",
    "    CROP_SIZE =500\n",
    "    best_model_wts = model.state_dict()\n",
    "    best_acc = 0.0\n",
    "    best_loss = np.inf\n",
    "    for epoch in range(num_epochs):\n",
    "        rand_sample = np.random.randint(len(filelist), size=5)\n",
    "        print('Epoch {}/{}'.format(epoch, num_epochs - 1))\n",
    "        print('-' * 10)\n",
    "\n",
    "        \n",
    "        # Each epoch has a training and validation phase\n",
    "        \n",
    "            \n",
    "#         scheduler.step()\n",
    "        model.train(True)  # Set model to training mode\n",
    "        running_loss = 0.0\n",
    "        normalize = transforms.Normalize(mean=[0.485, 0.456, 0.406],\n",
    "                                         std=[0.229, 0.224, 0.225])\n",
    "        out_transform = transforms.Compose([\n",
    "                transforms.ColorJitter(),\n",
    "                transforms.ToTensor()\n",
    "#                 normalize\n",
    "        ])\n",
    "        out_transform_lebel = transforms.Compose([\n",
    "                transforms.ToTensor()\n",
    "#                 normalize\n",
    "        ])\n",
    "        # Iterate over data.\n",
    "        count = 0\n",
    "        cum = 0\n",
    "        for index in tqdm_notebook(rand_sample,total=5):\n",
    "            im = PIL.Image.open(join(images_path,filelist[index]))\n",
    "            labels_data = PIL.Image.open(join(labels_path,filelist[index]))\n",
    "            \n",
    "            train_data = out_transform(im)\n",
    "            labels_data = out_transform_lebel(labels_data)\n",
    "            im.close()\n",
    "            for i in range(5000//CROP_SIZE):\n",
    "                for j in range(5000//CROP_SIZE):\n",
    "                    \n",
    "                    labels_data_tem = Variable(labels_data[:,i*CROP_SIZE:i*CROP_SIZE+CROP_SIZE,j*CROP_SIZE:j*CROP_SIZE+CROP_SIZE].type(torch.LongTensor).cuda())\n",
    "                    cum = torch.sum(labels_data_tem).cpu().data.numpy()[0]\n",
    "#                     if cum < CROP_SIZE*CROP_SIZE*0.001:\n",
    "#                         continue\n",
    "                    count+=1\n",
    "                    train_data_tem = train_data[:,i*CROP_SIZE:i*CROP_SIZE+CROP_SIZE,j*CROP_SIZE:j*CROP_SIZE+CROP_SIZE].unsqueeze(0)\n",
    "                    train_data_tem = Variable(train_data_tem.cuda())\n",
    "                    \n",
    "# #                     print(train_data_tem.size())\n",
    "                    \n",
    "                    # zero the parameter gradients\n",
    "        \n",
    "                    # forward\n",
    "                    outputs= model(train_data_tem)\n",
    "#                     print(labels_data.size())\n",
    "                    loss = criterion(outputs,labels_data_tem) \n",
    "                    \n",
    "                    \n",
    "        \n",
    "                    #loss = MSE(outputs, inputs_eva)\n",
    "                    # backward + optimize only if in training phase\n",
    "                    optimizer.zero_grad()\n",
    "                    loss.backward()\n",
    "                    optimizer.step()\n",
    "                    # statistics\n",
    "                    running_loss += loss.data[0]\n",
    "        epoch_loss = running_loss / count\n",
    "        print('Loss: {:.4f} Iteration:{}'.format(epoch_loss,count))\n",
    "#         tem_acc = test_acc(model)  \n",
    "#         print('Acc: {}'.format(test_acc))\n",
    "#         if(tem_acc>best_acc):\n",
    "#             best_model_wts = model.state_dict()\n",
    "#             best_acc = tem_acc\n",
    "        \n",
    "    # deep copy the model\n",
    "    print()\n",
    "\n",
    "    time_elapsed = time.time() - since\n",
    "    print('Training complete in {:.0f}m {:.0f}s'.format(\n",
    "        time_elapsed // 60, time_elapsed % 60))\n",
    "    # load best model weights\n",
    "#     model.load_state_dict(best_model_wts)\n",
    "    return model"
   ]
  },
  {
   "cell_type": "code",
   "execution_count": null,
   "metadata": {
    "collapsed": false
   },
   "outputs": [
    {
     "name": "stdout",
     "output_type": "stream",
     "text": [
      "Epoch 0/9\n",
      "----------\n"
     ]
    },
    {
     "name": "stderr",
     "output_type": "stream",
     "text": [
      "C:\\Users\\user\\PycharmProjects\\DIP_final\\util.py:11: UserWarning: Implicit dimension choice for log_softmax has been deprecated. Change the call to include dim=X as an argument.\n",
      "  return self.nll_loss(F.log_softmax(inputs), targets)\n"
     ]
    },
    {
     "name": "stdout",
     "output_type": "stream",
     "text": [
      "\n",
      "Loss: 0.2568 Iteration:500\n",
      "Epoch 1/9\n",
      "----------\n"
     ]
    }
   ],
   "source": [
    "# densenet_f.load_state_dict(torch.load('DenseNet121_instance_BR_DEEP.pt'))\n",
    "use_gpu = torch.cuda.is_available()\n",
    "if use_gpu:\n",
    "    densenet_f = densenet_f.cuda()\n",
    "criterion = util.CrossEntropyLoss2d(size_average=True).cuda()\n",
    "optimizer_ft = optim.Adam(densenet_f.parameters(), lr=0.0001)\n",
    "exp_lr_scheduler = lr_scheduler.StepLR(optimizer_ft, step_size=2, gamma=0.1)\n",
    "densenet_f = train_model(densenet_f,criterion,optimizer_ft,exp_lr_scheduler,10)"
   ]
  },
  {
   "cell_type": "code",
   "execution_count": null,
   "metadata": {
    "collapsed": true
   },
   "outputs": [],
   "source": [
    "torch.save(densenet_f.state_dict(),'DenseNet121_instance_BR_DEEP.pt')"
   ]
  },
  {
   "cell_type": "code",
   "execution_count": null,
   "metadata": {
    "collapsed": false,
    "scrolled": false
   },
   "outputs": [],
   "source": [
    "test_list = ['chi1.jpg',\n",
    "             'bell1.tif',\n",
    "             'bell2.tif',\n",
    "             'kit1.jpg',\n",
    "             'vie1.jpg',\n",
    "             'sfo1_cr.png',\n",
    "             'bloomington1_cr.png',\n",
    "             'innsbruck1_cr.png',\n",
    "             'chicago15_cr.png'\n",
    "            ]\n",
    "for index in range(len(test_list)):\n",
    "    \n",
    "    test_path = test_list[index]\n",
    "    test_transform = transforms.Compose([\n",
    "        transforms.ToTensor()\n",
    "    ])\n",
    "    test = test_transform(PIL.Image.open(test_path)).unsqueeze(0)\n",
    "    test = Variable(test.cuda(),volatile=True)\n",
    "    densenet_f.eval()\n",
    "    out = densenet_f(test)\n",
    "\n",
    "    \n",
    "    \n",
    "    n = nn.Sigmoid()\n",
    "    m = nn.Softmax2d()\n",
    "    out = m(out)\n",
    "    out = (out.cpu()[0].data.numpy()).transpose((1, 2, 0))\n",
    "    \n",
    "    \n",
    "    \n",
    "    f,ax = plt.subplots(1,2)\n",
    "    a = out[:,:,1].copy()\n",
    "    a[a<0] = 0\n",
    "    ax[0].imshow(out[:,:,1])\n",
    "    ax[1].imshow(np.array(PIL.Image.open(test_path)))\n",
    "    plt.show()\n",
    "\n",
    "# a.save('kit1_source.tif')\n"
   ]
  },
  {
   "cell_type": "code",
   "execution_count": null,
   "metadata": {
    "collapsed": false
   },
   "outputs": [],
   "source": [
    "test_acc(densenet_f)"
   ]
  },
  {
   "cell_type": "code",
   "execution_count": null,
   "metadata": {
    "collapsed": true
   },
   "outputs": [],
   "source": []
  }
 ],
 "metadata": {
  "kernelspec": {
   "display_name": "Python 3",
   "language": "python",
   "name": "python3"
  },
  "language_info": {
   "codemirror_mode": {
    "name": "ipython",
    "version": 3
   },
   "file_extension": ".py",
   "mimetype": "text/x-python",
   "name": "python",
   "nbconvert_exporter": "python",
   "pygments_lexer": "ipython3",
   "version": "3.6.0"
  },
  "widgets": {
   "state": {
    "0c10fcb0368845cdbdeac9434c11db3d": {
     "views": [
      {
       "cell_index": 5
      }
     ]
    },
    "0de2ec0748ae4147856dc296200903b7": {
     "views": [
      {
       "cell_index": 5
      }
     ]
    },
    "14dc7e0dcb994a21a07d6e38e3a48054": {
     "views": [
      {
       "cell_index": 5
      }
     ]
    },
    "264d498df80f4aafba165229065fa6de": {
     "views": [
      {
       "cell_index": 5
      }
     ]
    },
    "2888a5fb9fd34b238e3470b96eb2a784": {
     "views": [
      {
       "cell_index": 5
      }
     ]
    },
    "3085a2ef130d43df8f9a4c340e119456": {
     "views": [
      {
       "cell_index": 5
      }
     ]
    },
    "4cfa25891bd04f09a68c66a9e7a26537": {
     "views": [
      {
       "cell_index": 5
      }
     ]
    },
    "542108344dfa44b584615f2a4694d795": {
     "views": [
      {
       "cell_index": 5
      }
     ]
    },
    "56302831b92d4092a5909901b75526b5": {
     "views": [
      {
       "cell_index": 5
      }
     ]
    },
    "5949d3d248544d03af75124e16b22518": {
     "views": [
      {
       "cell_index": 5
      }
     ]
    },
    "64bdc38795d3482e9b43e1f53b341f75": {
     "views": [
      {
       "cell_index": 5
      }
     ]
    },
    "75d24ec221aa426fa1d8993303924c68": {
     "views": [
      {
       "cell_index": 5
      }
     ]
    },
    "7e2f569d15fc4c38b05ee1131a392743": {
     "views": [
      {
       "cell_index": 5
      }
     ]
    },
    "802811d9a16240fc935add68e1119829": {
     "views": [
      {
       "cell_index": 5
      }
     ]
    },
    "82c8cee7774e435ca0130fa3b59e79e0": {
     "views": [
      {
       "cell_index": 5
      }
     ]
    },
    "8423fe8b5a8d4315af9b0bf1e6f2ae12": {
     "views": [
      {
       "cell_index": 5
      }
     ]
    },
    "865f96511d3a4eb5923a49fff0d01ff8": {
     "views": [
      {
       "cell_index": 5
      }
     ]
    },
    "9895f430cc804df7b9b52ee62a5d2ee4": {
     "views": [
      {
       "cell_index": 5
      }
     ]
    },
    "9fd966d1331a4fa7a4dd18a6bffd0545": {
     "views": [
      {
       "cell_index": 5
      }
     ]
    },
    "a07b5bccac7e451c9a2d512484ef5760": {
     "views": [
      {
       "cell_index": 5
      }
     ]
    },
    "b59d9c2e2fb24a06bbf3a9d1db7df3b7": {
     "views": [
      {
       "cell_index": 5
      }
     ]
    },
    "bae352976b3a491b9561717cc9e4a956": {
     "views": [
      {
       "cell_index": 5
      }
     ]
    },
    "c8073a5e495b4c5fbf2e79f1968f4d72": {
     "views": [
      {
       "cell_index": 5
      }
     ]
    },
    "cbf0c4903bd248c0907c7c49bb67b380": {
     "views": [
      {
       "cell_index": 5
      }
     ]
    },
    "cef928563a2340ebab636070ecf916b4": {
     "views": [
      {
       "cell_index": 5
      }
     ]
    },
    "cf98b42c5e51480daa70a176a3970b68": {
     "views": [
      {
       "cell_index": 5
      }
     ]
    },
    "e1952202d3df4319ba964e9ca914a566": {
     "views": [
      {
       "cell_index": 5
      }
     ]
    },
    "e6ffbc43d3af47c48606267a52d7c479": {
     "views": [
      {
       "cell_index": 5
      }
     ]
    },
    "e8bde8a2bcca48dabd4cc93a0bda2fa8": {
     "views": [
      {
       "cell_index": 5
      }
     ]
    },
    "fd587e88ecb140fbbb10404760d74d06": {
     "views": [
      {
       "cell_index": 5
      }
     ]
    },
    "ff97b4ae0b0642a48dad3479ff85c025": {
     "views": [
      {
       "cell_index": 5
      }
     ]
    }
   },
   "version": "1.2.0"
  }
 },
 "nbformat": 4,
 "nbformat_minor": 2
}
