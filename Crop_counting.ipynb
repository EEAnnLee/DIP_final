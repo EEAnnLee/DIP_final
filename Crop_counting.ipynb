{
 "cells": [
  {
   "cell_type": "code",
   "execution_count": 12,
   "metadata": {
    "collapsed": true
   },
   "outputs": [],
   "source": [
    "import numpy as np\n",
    "import matplotlib.pyplot as plt\n",
    "import PIL\n",
    "from os import listdir\n",
    "from os.path import isfile, join\n",
    "\n",
    "\n",
    "counting_path = 'D:/DataSet/AerialImageDataset/train/gt/'\n",
    "save_path = 'D:/DataSet/AerialImageDataset/counting/gt/'\n",
    "plt.rcParams[\"figure.figsize\"] = (12,8)\n"
   ]
  },
  {
   "cell_type": "code",
   "execution_count": 13,
   "metadata": {
    "collapsed": true
   },
   "outputs": [],
   "source": [
    "test_list = ['austin1.tif',\n",
    "             'chicago1.tif',\n",
    "             'kitsap1.tif',\n",
    "             'tyrol-w1.tif',\n",
    "             'vienna1.tif'\n",
    "            ]"
   ]
  },
  {
   "cell_type": "code",
   "execution_count": 14,
   "metadata": {
    "collapsed": false
   },
   "outputs": [
    {
     "data": {
      "text/plain": [
       "['austin1', 'tif']"
      ]
     },
     "execution_count": 14,
     "metadata": {},
     "output_type": "execute_result"
    }
   ],
   "source": [
    "test_list[0].split('.')"
   ]
  },
  {
   "cell_type": "code",
   "execution_count": 17,
   "metadata": {
    "collapsed": false
   },
   "outputs": [],
   "source": [
    "CROP_SIZE = 1000\n",
    "for name in test_list:\n",
    "    im = np.array(PIL.Image.open(counting_path+name))\n",
    "    for i in range(5000//CROP_SIZE):\n",
    "        for j in range(5000//CROP_SIZE):\n",
    "            temp = im[i*CROP_SIZE:i*CROP_SIZE+CROP_SIZE,j*CROP_SIZE:j*CROP_SIZE+CROP_SIZE]\n",
    "            out = PIL.Image.fromarray(temp)\n",
    "            out.save(save_path+name.split('.')[0]+'_'+str(i)+str(j)+'.tif')"
   ]
  },
  {
   "cell_type": "code",
   "execution_count": null,
   "metadata": {
    "collapsed": true
   },
   "outputs": [],
   "source": []
  }
 ],
 "metadata": {
  "kernelspec": {
   "display_name": "Python 3",
   "language": "python",
   "name": "python3"
  },
  "language_info": {
   "codemirror_mode": {
    "name": "ipython",
    "version": 3
   },
   "file_extension": ".py",
   "mimetype": "text/x-python",
   "name": "python",
   "nbconvert_exporter": "python",
   "pygments_lexer": "ipython3",
   "version": "3.6.0"
  }
 },
 "nbformat": 4,
 "nbformat_minor": 2
}
